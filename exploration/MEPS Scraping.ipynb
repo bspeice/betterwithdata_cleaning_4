{
 "cells": [
  {
   "cell_type": "code",
   "execution_count": 60,
   "metadata": {
    "collapsed": false
   },
   "outputs": [],
   "source": [
    "library(httr)\n",
    "library(foreign)\n",
    "        \n",
    "download_puf <- function(short_puf) {\n",
    "    puf_base <- \"http://meps.ahrq.gov/mepsweb/data_files/pufs/\"\n",
    "    puf_suffix <- \"ssp.zip\"\n",
    "    \n",
    "    zip_filename <- paste0(short_puf, \"ssp.zip\")\n",
    "    filename <- paste0(short_puf, \".ssp\")\n",
    "    puf_url <- paste0(puf_base, zip_filename)\n",
    "    download.file(puf_url, zip_filename)\n",
    "    \n",
    "    # unzip\n",
    "    unzip(zip_filename, files = filename)\n",
    "    saveName <- paste0(short_puf, \".csv\")\n",
    "\n",
    "    # read sas file and return as csv file\n",
    "    mydata <- read.xport(filename)\n",
    "    write.table(mydata, file = saveName, sep = \",\")\n",
    "}\n",
    "\n",
    "normalize_puf <- function(full_puf) {\n",
    "    stage_1 <- gsub(\"C-0\", \"\", full_puf)\n",
    "    stage_2 <- gsub(\"C-\", \"\", stage_1)\n",
    "    \n",
    "    tolower(stage_2)\n",
    "}"
   ]
  },
  {
   "cell_type": "code",
   "execution_count": 63,
   "metadata": {
    "collapsed": false
   },
   "outputs": [
    {
     "ename": "ERROR",
     "evalue": "Error in lookup.xport(file): file not in SAS transfer format\n",
     "output_type": "error",
     "traceback": [
      "Error in lookup.xport(file): file not in SAS transfer format\n"
     ]
    }
   ],
   "source": [
    "# Emergency Visit PUF's\n",
    "# pufs <- c('HC-160E','HC-152E','HC-144E','HC-135E','HC-126E','HC-118E','HC-110E','HC-102E','HC-094E','HC-085E','HC-077E','HC-067E','HC-059E','HC-051E','HC-033E','HC-026E','HC-016E','HC-010E')\n",
    "\n",
    "# Outpatient Visits\n",
    "pufs <- c('HC-160F','HC-152F','HC-144F','HC-135F','HC-126F','HC-118F','HC-110F','HC-102F','HC-094F','HC-085F','HC-077F','HC-067F','HC-059F','HC-051F','HC-033F','HC-026F','HC-016F','HC-010F')\n",
    "\n",
    "puf_downloads = c()\n",
    "for (puf in pufs) {\n",
    "    download_puf(normalize_puf(puf))\n",
    "}"
   ]
  }
 ],
 "metadata": {
  "kernelspec": {
   "display_name": "R",
   "language": "R",
   "name": "ir"
  },
  "language_info": {
   "codemirror_mode": "r",
   "file_extension": ".r",
   "mimetype": "text/x-r-source",
   "name": "R",
   "pygments_lexer": "r",
   "version": "3.2.2"
  }
 },
 "nbformat": 4,
 "nbformat_minor": 0
}
